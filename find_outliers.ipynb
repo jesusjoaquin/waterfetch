{
 "cells": [
  {
   "cell_type": "code",
   "execution_count": 1,
   "metadata": {},
   "outputs": [],
   "source": [
    "import pandas as pd\n",
    "import geopandas as gpd\n",
    "import numpy as np\n",
    "import matplotlib\n",
    "\n",
    "from shapely.geometry import Point, shape"
   ]
  },
  {
   "cell_type": "code",
   "execution_count": 2,
   "metadata": {},
   "outputs": [],
   "source": [
    "dhs_filepath = '../data/dhs_info_for_climate_extraction_26sept2018.csv'\n",
    "dhs_df = pd.read_csv(dhs_filepath, sep=',')\n",
    "dhs_df['outlier'] = 0"
   ]
  },
  {
   "cell_type": "code",
   "execution_count": 3,
   "metadata": {},
   "outputs": [],
   "source": [
    "shp_filepath = '../data/shapefiles/natural_earth_vector/10m_cultural/sub_saharan_africa.shp'\n",
    "shp_gdf = gpd.read_file(shp_filepath)"
   ]
  },
  {
   "cell_type": "markdown",
   "metadata": {},
   "source": [
    "Given a row of the DHS survey dataframe, the coordinates are checked against the country's respective polygon. \n",
    "\n",
    "If the Point(longnum, latnum) instance is not within the country's polygon, it is then marked as an outlier in the dhs_survey dataframe."
   ]
  },
  {
   "cell_type": "code",
   "execution_count": 4,
   "metadata": {},
   "outputs": [],
   "source": [
    "# Given a row of the dhs_survey dataframe, the coordinates are checked agains the \n",
    "def check_outlier(curr_row, polygon, index, dhs_df):\n",
    "    curr_point = Point(curr_row.longnum, curr_row.latnum)\n",
    "    # Verifying that the point instance exists withink the polygon\n",
    "    if not polygon.contains(curr_point).bool():\n",
    "        curr_row.outlier = 1\n",
    "        dhs_df.iloc[index] = curr_row\n",
    "        #print('Updated dataframe at', index)"
   ]
  },
  {
   "cell_type": "code",
   "execution_count": 3,
   "metadata": {},
   "outputs": [],
   "source": [
    "#test_limit = 15000\n",
    "for i, row in dhs_df.iterrows():\n",
    "    check_outlier(row, shp_gdf[shp_gdf.dhscc == row.dhscc].geometry, i, dhs_df)\n",
    "    #if i == test_limit:\n",
    "        #break"
   ]
  },
  {
   "cell_type": "code",
   "execution_count": 4,
   "metadata": {},
   "outputs": [],
   "source": [
    "dhs_df.to_csv('../data/dhs_info_for_climate_extraction_26sept2018_outliers.csv')"
   ]
  },
  {
   "cell_type": "code",
   "execution_count": 12,
   "metadata": {},
   "outputs": [
    {
     "name": "stdout",
     "output_type": "stream",
     "text": [
      "0.012702367895881165 % of the DHS_survey data has been flagged as an outlier\n"
     ]
    }
   ],
   "source": [
    "percent_out = len(dhs_df[dhs_df.outlier == 1])/len(dhs_df)\n",
    "print(percent_out, '% of the DHS_survey data has been flagged as an outlier')\n",
    "\n",
    "# Export to csv file\n",
    "dhs_df.to_csv('../data/dhs_info_for_climate_extraction_26sept2018_outliers.csv')"
   ]
  },
  {
   "cell_type": "code",
   "execution_count": 5,
   "metadata": {},
   "outputs": [],
   "source": [
    "non_outliers = dhs_df[dhs_df.outlier == 0]\n",
    "non_outliers.head()"
   ]
  },
  {
   "cell_type": "code",
   "execution_count": null,
   "metadata": {},
   "outputs": [],
   "source": []
  }
 ],
 "metadata": {
  "kernelspec": {
   "display_name": "Python 3",
   "language": "python",
   "name": "python3"
  },
  "language_info": {
   "codemirror_mode": {
    "name": "ipython",
    "version": 3
   },
   "file_extension": ".py",
   "mimetype": "text/x-python",
   "name": "python",
   "nbconvert_exporter": "python",
   "pygments_lexer": "ipython3",
   "version": "3.6.6"
  }
 },
 "nbformat": 4,
 "nbformat_minor": 2
}
